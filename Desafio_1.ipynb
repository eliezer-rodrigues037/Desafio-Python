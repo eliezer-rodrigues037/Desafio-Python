{
  "cells": [
    {
      "cell_type": "code",
      "execution_count": null,
      "metadata": {
        "id": "LjETRDLbHojS"
      },
      "outputs": [],
      "source": [
        "def verificaVetor(vet, c):\n",
        "  counter = c\n",
        "  if counter < 1:\n",
        "    for i in range((len(vet) - 1)):\n",
        "      if(vet[i] >=  vet[i+1]):\n",
        "        vet.pop(i)\n",
        "        counter = 1\n",
        "        return verificaVetor(vet,counter)\n",
        "  elif counter == 1:\n",
        "    for i in range((len(vet) - 1)):\n",
        "      if(vet[i] >=  vet[i+1]):\n",
        "        return False\n",
        "    return True\n",
        "  return True"
      ]
    },
    {
      "cell_type": "code",
      "execution_count": null,
      "metadata": {
        "colab": {
          "base_uri": "https://localhost:8080/"
        },
        "id": "i3H8MAvIcmLX",
        "outputId": "ccb9e389-3a3e-47bd-f9c7-2f11041adbb4"
      },
      "outputs": [
        {
          "name": "stdout",
          "output_type": "stream",
          "text": [
            "O vetor [1, 5, 9, 10] é um vetor crescente! \n",
            "O vetor [1, 2, 2, 4] é um vetor crescente! \n",
            "O vetor [1, 2, 4, 3, 1] não é um vetor crescente! \n"
          ]
        }
      ],
      "source": [
        "vetores = [[1, 5, 9, 10],[1, 2, 2, 4],[1, 2, 4, 3, 1]]\n",
        "\n",
        "for i, value in enumerate(vetores):\n",
        "    if(verificaVetor(value.copy(),0)):\n",
        "        print(f'O vetor {value} é um vetor crescente! ')\n",
        "    else:\n",
        "        print(f'O vetor {value} não é um vetor crescente! ')"
      ]
    }
  ],
  "metadata": {
    "colab": {
      "collapsed_sections": [],
      "name": "Desafio 1.ipynb",
      "provenance": []
    },
    "kernelspec": {
      "display_name": "Python 3",
      "name": "python3"
    },
    "language_info": {
      "name": "python"
    }
  },
  "nbformat": 4,
  "nbformat_minor": 0
}
