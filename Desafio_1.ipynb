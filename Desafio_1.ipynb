{
  "nbformat": 4,
  "nbformat_minor": 0,
  "metadata": {
    "colab": {
      "name": "Desafio 1.ipynb",
      "provenance": [],
      "collapsed_sections": []
    },
    "kernelspec": {
      "name": "python3",
      "display_name": "Python 3"
    },
    "language_info": {
      "name": "python"
    }
  },
  "cells": [
    {
      "cell_type": "markdown",
      "source": [
        "Desafio 01 de Python:\n",
        "\n",
        "<p1> Vocês devem criar um código que verifica se um vetor é crescente podendo\n",
        " remover no máximo 1 elemento do vetor.<br>\n",
        "O que é um vetor crescente? É um vetor onde o primeiro elemento é menor que o segundo, o segundo é menor que o terceiro, e assim sucessivamente:<br>\n",
        "a0 < a1 < a2 ... < an<br>\n",
        "Exemplos:<br>\n",
        "   [1, 5, 9, 10] é um vetor crescente<br>\n",
        "   [1, 2, 2, 4] não é um vetor crescente (2 não é < 2)<br>\n",
        " Qual desses exemplos passariam no exercício?<br>\n",
        " Os dois.<br>\n",
        " Por quê?<br>\n",
        "   [1, 5, 9, 10] ele já é um vetor crescente<br>\n",
        "   [1, 2, 2, 4] ele se torna crescente ao remover exatamente 1 elemento (um 2)<br>\n",
        " Um exemplo que não passaria no exercício:<br>\n",
        "   [1, 2, 4, 3, 1] porque não existe uma forma de remover 1 elemento e tornar crescente\n",
        "\n"
      ],
      "metadata": {
        "id": "fWg2Gu1hICnJ"
      }
    },
    {
      "cell_type": "code",
      "execution_count": null,
      "metadata": {
        "id": "LjETRDLbHojS"
      },
      "outputs": [],
      "source": [
        "def verificaVetor(vet, c):\n",
        "  counter = c\n",
        "  if counter < 1:\n",
        "    for i in range((len(vet) - 1)):\n",
        "      if(vet[i] >=  vet[i+1]):\n",
        "        vet.pop(i)\n",
        "        counter = 1\n",
        "        return verificaVetor(vet,counter)\n",
        "  elif counter == 1:\n",
        "    for i in range((len(vet) - 1)):\n",
        "      if(vet[i] >=  vet[i+1]):\n",
        "        return False\n",
        "    return True\n",
        "  return True"
      ]
    },
    {
      "cell_type": "code",
      "source": [
        "vetores = [[1, 5, 9, 10],[1, 2, 2, 4],[1, 2, 4, 3, 1]]\n",
        "\n",
        "for i, value in enumerate(vetores):\n",
        "    if(verificaVetor(value.copy(),0)):\n",
        "        print(f'O vetor {value} é um vetor crescente! ')\n",
        "    else:\n",
        "        print(f'O vetor {value} não é um vetor crescente! ')"
      ],
      "metadata": {
        "colab": {
          "base_uri": "https://localhost:8080/"
        },
        "id": "i3H8MAvIcmLX",
        "outputId": "ccb9e389-3a3e-47bd-f9c7-2f11041adbb4"
      },
      "execution_count": null,
      "outputs": [
        {
          "output_type": "stream",
          "name": "stdout",
          "text": [
            "O vetor [1, 5, 9, 10] é um vetor crescente! \n",
            "O vetor [1, 2, 2, 4] é um vetor crescente! \n",
            "O vetor [1, 2, 4, 3, 1] não é um vetor crescente! \n"
          ]
        }
      ]
    }
  ]
}